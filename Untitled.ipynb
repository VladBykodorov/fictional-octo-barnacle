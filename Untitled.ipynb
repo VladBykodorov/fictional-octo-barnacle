{
 "cells": [
  {
   "cell_type": "code",
   "execution_count": 16,
   "metadata": {},
   "outputs": [],
   "source": [
    "import numpy as np"
   ]
  },
  {
   "cell_type": "code",
   "execution_count": 17,
   "metadata": {},
   "outputs": [],
   "source": [
    "E1 = 50\n",
    "E2 = 25\n",
    "E3 = 0\n",
    "\n",
    "R1 = 10\n",
    "R2 = 3\n",
    "R3 = 8\n",
    "R4 = 6\n",
    "R5 = 7\n",
    "R6 = 0\n",
    "\n",
    "L1 = 0.15\n",
    "L2 = 0.03\n",
    "L3 = 0\n",
    "L4 = 0.8\n",
    "L5 = 0.09\n",
    "L6 = 0.1\n",
    "\n",
    "# * 10^-6\n",
    "C1 = 36\n",
    "C2 = 20\n",
    "C3 = 15\n",
    "C4 = 0\n",
    "C5 = 10\n",
    "C6 = 9\n",
    "\n",
    "f = 50\n",
    "w = 2 * 3.14 * f"
   ]
  },
  {
   "cell_type": "code",
   "execution_count": 18,
   "metadata": {},
   "outputs": [],
   "source": [
    "C_mtrx = np.zeros(6, dtype=complex)\n",
    "L_mtrx = np.zeros(6, dtype=complex)\n",
    "R_mrtx = np.zeros(6, dtype=complex)\n",
    "Xl_mtrx = np.zeros(6, dtype=complex)\n",
    "Xc_mtrx = np.zeros(6, dtype=complex)\n",
    "X_mtrx = np.zeros(6, dtype=complex)\n",
    "Z_mtrx = np.zeros(6, dtype=complex)\n",
    "E_mtrx = np.zeros(6, dtype=complex)\n",
    "kirchhoff_mtrx = np.zeros((6, 6), dtype=complex)\n",
    "kirchhoff_mtrx_inv = np.zeros((6, 6), dtype=complex)\n",
    "I_mtrx = np.zeros(6, dtype=complex)"
   ]
  },
  {
   "cell_type": "code",
   "execution_count": 19,
   "metadata": {},
   "outputs": [
    {
     "name": "stdout",
     "output_type": "stream",
     "text": [
      "[36, 20, 15, 0, 10, 9]\n",
      "[0.15, 0.03, 0, 0.8, 0.09, 0.1]\n",
      "[10, 3, 8, 6, 7, 0]\n",
      "[0, 0, 0, 50, -25, 75]\n"
     ]
    }
   ],
   "source": [
    "C_mtrx = [C1, C2, C3, C4, C5, C6]\n",
    "L_mtrx = [L1, L2, L3, L4, L5, L6]\n",
    "R_mrtx = [R1, R2, R3, R4, R5, R6]\n",
    "E_mtrx = [0, 0, 0, E1, -E2, (E1 + E2)]\n",
    "print(C_mtrx)\n",
    "print(L_mtrx)\n",
    "print(R_mrtx)\n",
    "print(E_mtrx)"
   ]
  },
  {
   "cell_type": "code",
   "execution_count": 20,
   "metadata": {},
   "outputs": [
    {
     "name": "stdout",
     "output_type": "stream",
     "text": [
      "[ 47.1 +0.j   9.42+0.j   0.  +0.j 251.2 +0.j  28.26+0.j  31.4 +0.j]\n"
     ]
    }
   ],
   "source": [
    "for x in range(0, 6):\n",
    "    Xl_mtrx[x] = w * L_mtrx[x]\n",
    "print(Xl_mtrx)"
   ]
  },
  {
   "cell_type": "code",
   "execution_count": 21,
   "metadata": {
    "scrolled": true
   },
   "outputs": [
    {
     "name": "stdout",
     "output_type": "stream",
     "text": [
      "[ 88.46426044+0.j 159.23566879+0.j 212.31422505+0.j   0.        +0.j\n",
      " 318.47133758+0.j 353.85704176+0.j]\n"
     ]
    }
   ],
   "source": [
    "for x in range(0, 6):\n",
    "    if C_mtrx[x] != 0:\n",
    "        Xc_mtrx[x] = ((1 / (w * C_mtrx[x])) * 1000000)\n",
    "    else:\n",
    "            Xc_mtrx[x] = 0\n",
    "print(Xc_mtrx)"
   ]
  },
  {
   "cell_type": "code",
   "execution_count": 22,
   "metadata": {},
   "outputs": [
    {
     "name": "stdout",
     "output_type": "stream",
     "text": [
      "[-0. -41.36426044j -0.-149.81566879j -0.-212.31422505j  0.+251.2j\n",
      " -0.-290.21133758j -0.-322.45704176j]\n"
     ]
    }
   ],
   "source": [
    "for x in range(0, 6):\n",
    "    X_mtrx[x] = (Xl_mtrx[x] - Xc_mtrx[x]) * 1j\n",
    "print(X_mtrx)"
   ]
  },
  {
   "cell_type": "code",
   "execution_count": 23,
   "metadata": {},
   "outputs": [
    {
     "name": "stdout",
     "output_type": "stream",
     "text": [
      "[10. -41.36426044j  3.-149.81566879j  8.-212.31422505j  6.+251.2j\n",
      "  7.-290.21133758j  0.-322.45704176j]\n"
     ]
    }
   ],
   "source": [
    "for x in range(0, 6):\n",
    "    Z_mtrx[x] = R_mrtx[x] + X_mtrx[x]\n",
    "print(Z_mtrx)"
   ]
  },
  {
   "cell_type": "code",
   "execution_count": 24,
   "metadata": {},
   "outputs": [
    {
     "name": "stdout",
     "output_type": "stream",
     "text": [
      "[[1, -1, -1, 0, 0, 0], [0, 0, 1, 1, 0, -1], [0, 1, 0, -1, -1, 0], [(10-41.36426043878273j), 0, (8-212.31422505307856j), (-6-251.20000000000002j), (7-290.2113375796178j), 0], [0, 0, 0, (-6-251.20000000000002j), (7-290.2113375796178j), (-0+322.45704175513094j)], [(10-41.36426043878273j), 0, (8-212.31422505307856j), 0, 0, -322.45704175513094j]]\n"
     ]
    }
   ],
   "source": [
    "kirchhoff_mtrx = [[1, -1, -1, 0, 0, 0],\n",
    "                  [0, 0, 1, 1, 0, -1],\n",
    "                  [0, 1, 0, -1, -1, 0],\n",
    "                  [Z_mtrx[0], 0, Z_mtrx[2], -Z_mtrx[3], Z_mtrx[4], 0],\n",
    "                  [0, 0, 0, -Z_mtrx[3], Z_mtrx[4], -Z_mtrx[5]],\n",
    "                  [Z_mtrx[0], 0, Z_mtrx[2], 0, 0, Z_mtrx[5]]]\n",
    "print(kirchhoff_mtrx)"
   ]
  },
  {
   "cell_type": "code",
   "execution_count": 13,
   "metadata": {
    "scrolled": true
   },
   "outputs": [
    {
     "name": "stdout",
     "output_type": "stream",
     "text": [
      "[ 0.01676033+0.18408824j  0.02547146-0.03338942j -0.00871113+0.21747766j\n",
      "  0.02340122-0.15199976j  0.00207024+0.11861034j  0.01469009+0.0654779j ]\n"
     ]
    }
   ],
   "source": [
    "I_mtrx = np.linalg.solve(kirchhoff_mtrx, E_mtrx)\n",
    "print(I_mtrx)"
   ]
  },
  {
   "cell_type": "code",
   "execution_count": 31,
   "metadata": {
    "scrolled": true
   },
   "outputs": [
    {
     "name": "stdout",
     "output_type": "stream",
     "text": [
      "[ 0.01031786+0.17934696j  0.0020524 +0.0596754j   0.00826547+0.11967156j\n",
      " -0.00650035+0.01059127j  0.00855275+0.04908412j  0.00176512+0.13026284j]\n"
     ]
    }
   ],
   "source": [
    "kirchhoff_mtrx_inv = np.linalg.pinv(kirchhoff_mtrx)\n",
    "I_mtrx = kirchhoff_mtrx_inv @ E_mtrx\n",
    "print(I_mtrx)"
   ]
  },
  {
   "cell_type": "code",
   "execution_count": null,
   "metadata": {},
   "outputs": [],
   "source": []
  },
  {
   "cell_type": "code",
   "execution_count": null,
   "metadata": {},
   "outputs": [],
   "source": []
  }
 ],
 "metadata": {
  "kernelspec": {
   "display_name": "Python 3",
   "language": "python",
   "name": "python3"
  },
  "language_info": {
   "codemirror_mode": {
    "name": "ipython",
    "version": 3
   },
   "file_extension": ".py",
   "mimetype": "text/x-python",
   "name": "python",
   "nbconvert_exporter": "python",
   "pygments_lexer": "ipython3",
   "version": "3.7.3"
  }
 },
 "nbformat": 4,
 "nbformat_minor": 2
}

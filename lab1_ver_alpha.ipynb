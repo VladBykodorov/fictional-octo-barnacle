{
 "cells": [
  {
   "cell_type": "code",
   "execution_count": 1,
   "metadata": {},
   "outputs": [],
   "source": [
    "import numpy as np"
   ]
  },
  {
   "cell_type": "code",
   "execution_count": 2,
   "metadata": {},
   "outputs": [],
   "source": [
    "E1 = 50\n",
    "E2 = 25\n",
    "E3 = 0\n",
    "\n",
    "R1 = 10\n",
    "R2 = 3\n",
    "R3 = 8\n",
    "R4 = 6\n",
    "R5 = 7\n",
    "R6 = 0\n",
    "\n",
    "L1 = 0.15\n",
    "L2 = 0.03\n",
    "L3 = 0\n",
    "L4 = 0.8\n",
    "L5 = 0.09\n",
    "L6 = 0.1\n",
    "\n",
    "# * 10^-6\n",
    "C1 = 36\n",
    "C2 = 20\n",
    "C3 = 15\n",
    "C4 = 0\n",
    "C5 = 10\n",
    "C6 = 9\n",
    "\n",
    "f = 50\n",
    "w = 2 * 3.14 * f"
   ]
  },
  {
   "cell_type": "code",
   "execution_count": 3,
   "metadata": {},
   "outputs": [],
   "source": [
    "Xl_mtrx = np.zeros(6)\n",
    "Xc_mtrx = np.zeros(6)\n",
    "X_mtrx = np.zeros(6, dtype=complex)\n",
    "Z_mtrx = np.zeros(6, dtype=complex)\n",
    "kirchhoff_mtrx = np.zeros((6, 6), dtype=complex)"
   ]
  },
  {
   "cell_type": "code",
   "execution_count": 4,
   "metadata": {},
   "outputs": [],
   "source": [
    "C_mtrx = [C1, C2, C3, C4, C5, C6]\n",
    "L_mtrx = [L1, L2, L3, L4, L5, L6]\n",
    "R_mtrx = [R1, R2, R3, R4, R5, R6]\n",
    "E_mtrx = [0, 0, 0, E1, -E2, (E1 + E2)]"
   ]
  },
  {
   "cell_type": "code",
   "execution_count": 5,
   "metadata": {},
   "outputs": [],
   "source": [
    "for x in range(0, 6):\n",
    "    Xl_mtrx[x] = w * L_mtrx[x]"
   ]
  },
  {
   "cell_type": "code",
   "execution_count": 6,
   "metadata": {
    "scrolled": true
   },
   "outputs": [],
   "source": [
    "for x in range(0, 6):\n",
    "    if C_mtrx[x] != 0:\n",
    "        Xc_mtrx[x] = ((1 / (w * C_mtrx[x])) * 1000000)\n",
    "    else:\n",
    "            Xc_mtrx[x] = 0"
   ]
  },
  {
   "cell_type": "code",
   "execution_count": 7,
   "metadata": {},
   "outputs": [],
   "source": [
    "for x in range(0, 6):\n",
    "    X_mtrx[x] = (Xl_mtrx[x] - Xc_mtrx[x]) * 1j"
   ]
  },
  {
   "cell_type": "code",
   "execution_count": 8,
   "metadata": {},
   "outputs": [],
   "source": [
    "for x in range(0, 6):\n",
    "    Z_mtrx[x] = R_mtrx[x] + X_mtrx[x]"
   ]
  },
  {
   "cell_type": "code",
   "execution_count": 9,
   "metadata": {},
   "outputs": [],
   "source": [
    "kirchhoff_mtrx = [[1, -1, -1, 0, 0, 0],\n",
    "                  [0, 0, 1, 1, 0, -1],\n",
    "                  [0, 1, 0, -1, -1, 0],\n",
    "                  [Z_mtrx[0], 0, Z_mtrx[2], -Z_mtrx[3], Z_mtrx[4], 0],\n",
    "                  [0, 0, 0, -Z_mtrx[3], Z_mtrx[4], -Z_mtrx[5]],\n",
    "                  [Z_mtrx[0], 0, Z_mtrx[2], 0, 0, Z_mtrx[5]]]"
   ]
  },
  {
   "cell_type": "code",
   "execution_count": 10,
   "metadata": {
    "scrolled": true
   },
   "outputs": [],
   "source": [
    "I_mtrx = np.linalg.solve(kirchhoff_mtrx, E_mtrx)"
   ]
  },
  {
   "cell_type": "code",
   "execution_count": 14,
   "metadata": {
    "scrolled": true
   },
   "outputs": [
    {
     "name": "stdout",
     "output_type": "stream",
     "text": [
      "[ 0.01031786+0.17934696j  0.0020524 +0.0596754j   0.00826547+0.11967156j\n",
      " -0.00650035+0.01059127j  0.00855275+0.04908412j  0.00176512+0.13026284j]\n"
     ]
    }
   ],
   "source": [
    "# Не понятно... Тоже самое, но цифры другие (https://media1.tenor.com/images/1f5acd2e50e75ad23bc9fd96aad1db73/tenor.gif?itemid=15569009)\n",
    "I_mtrx = np.matmul(np.linalg.pinv(kirchhoff_mtrx), E_mtrx)"
   ]
  },
  {
   "cell_type": "code",
   "execution_count": 11,
   "metadata": {
    "scrolled": true
   },
   "outputs": [],
   "source": [
    "P_mtrx = R_mtrx * ((np.abs(I_mtrx) ** 2) / np.sqrt(2))"
   ]
  },
  {
   "cell_type": "code",
   "execution_count": 12,
   "metadata": {},
   "outputs": [],
   "source": [
    "Ql_mtrx = Xl_mtrx * ((np.abs(I_mtrx) ** 2) / np.sqrt(2))"
   ]
  },
  {
   "cell_type": "code",
   "execution_count": 13,
   "metadata": {},
   "outputs": [],
   "source": [
    "Qc_mtrx = Xc_mtrx * ((np.abs(I_mtrx) ** 2) / np.sqrt(2))"
   ]
  },
  {
   "cell_type": "code",
   "execution_count": 14,
   "metadata": {},
   "outputs": [],
   "source": [
    "Q_mtrx = Ql_mtrx - Qc_mtrx"
   ]
  },
  {
   "cell_type": "code",
   "execution_count": 15,
   "metadata": {},
   "outputs": [],
   "source": [
    "S_mtrx = np.sqrt((Q_mtrx ** 2) + (P_mtrx ** 2))"
   ]
  },
  {
   "cell_type": "code",
   "execution_count": 16,
   "metadata": {},
   "outputs": [],
   "source": [
    "Cos_mtrx = P_mtrx / S_mtrx"
   ]
  },
  {
   "cell_type": "code",
   "execution_count": 25,
   "metadata": {},
   "outputs": [
    {
     "name": "stdout",
     "output_type": "stream",
     "text": [
      " ///ИСХОДНЫЕ ДАННЫЕ\\\\ \n",
      " \n",
      " Частота сети:\n",
      "50\n",
      " \n",
      " Активное сопротивление:\n",
      "[10, 3, 8, 6, 7, 0]\n",
      " \n",
      " Индуктивность:\n",
      "[0.15, 0.03, 0, 0.8, 0.09, 0.1]\n",
      " \n",
      " Емкость:\n",
      "[36, 20, 15, 0, 10, 9]\n",
      " \n",
      " \\\\ИСХОДНЫЕ ДАННЫЕ/// \n",
      "\n",
      "\n",
      "\n",
      "  Результаты: \n",
      " \n",
      " Индуктивное сопротивление:\n",
      "[ 47.1    9.42   0.   251.2   28.26  31.4 ]\n",
      " \n",
      " Eмкостное сопротивление:\n",
      "[ 88.46426044 159.23566879 212.31422505   0.         318.47133758\n",
      " 353.85704176]\n",
      " \n",
      " Полное сопротивление:\n",
      "[10. -41.36426044j  3.-149.81566879j  8.-212.31422505j  6.+251.2j\n",
      "  7.-290.21133758j  0.-322.45704176j]\n",
      " \n",
      " ЭДС:\n",
      "[0, 0, 0, 50, -25, 75]\n",
      " \n",
      " Коэффициенты Киркхоффа:\n",
      "[[1, -1, -1, 0, 0, 0], [0, 0, 1, 1, 0, -1], [0, 1, 0, -1, -1, 0], [(10-41.36426043878273j), 0, (8-212.31422505307856j), (-6-251.20000000000002j), (7-290.2113375796178j), 0], [0, 0, 0, (-6-251.20000000000002j), (7-290.2113375796178j), (-0+322.45704175513094j)], [(10-41.36426043878273j), 0, (8-212.31422505307856j), 0, 0, -322.45704175513094j]]\n",
      " \n",
      " Токи:\n",
      "[ 0.01676033+0.18408824j  0.02547146-0.03338942j -0.00871113+0.21747766j\n",
      "  0.02340122-0.15199976j  0.00207024+0.11861034j  0.01469009+0.0654779j ]\n",
      " \n",
      " Реактивная мощность на индуктивности:\n",
      "[1.13800228 0.01174757 0.         4.20111087 0.28121246 0.09998422]\n",
      " \n",
      " Реактивная мощность на емкости:\n",
      "[2.13742103 0.19858086 7.11196554 0.         3.16907675 1.12675545]\n",
      " \n",
      " Активная мощность:\n",
      "[0.24161407 0.00374126 0.26797886 0.100345   0.06965631 0.        ]\n",
      " \n",
      " Реактивная мощность:\n",
      "[-0.99941874 -0.1868333  -7.11196554  4.20111087 -2.88786429 -1.02677122]\n",
      " \n",
      " Полная мощность:\n",
      "[1.0282097  0.18687075 7.11701247 4.20230909 2.88870423 1.02677122]\n",
      " \n",
      " Коэффициенты мощности:\n",
      "[0.23498521 0.02002059 0.03765328 0.02387854 0.02411334 0.        ]\n"
     ]
    }
   ],
   "source": [
    "print(' ///ИСХОДНЫЕ ДАННЫЕ\\\\\\ ')\n",
    "print(\" \", \" Частота сети:\", f, sep='\\n')\n",
    "print(\" \", \" Активное сопротивление:\", R_mtrx, sep='\\n')\n",
    "print(\" \", \" Индуктивность:\", L_mtrx, sep='\\n')\n",
    "print(\" \", \" Емкость:\", C_mtrx, ' ', sep='\\n')\n",
    "print(' \\\\\\ИСХОДНЫЕ ДАННЫЕ/// \\n\\n\\n')\n",
    "\n",
    "print(\" \", \"Результаты: \")\n",
    "print(\" \", \" Индуктивное сопротивление:\", Xl_mtrx, sep='\\n')\n",
    "print(\" \", \" Eмкостное сопротивление:\", Xc_mtrx, sep='\\n')\n",
    "print(\" \", \" Полное сопротивление:\", Z_mtrx, sep='\\n')\n",
    "print(\" \", \" ЭДС:\", E_mtrx, sep='\\n')\n",
    "print(\" \", \" Коэффициенты Киркхоффа:\", kirchhoff_mtrx, sep='\\n')\n",
    "print(\" \", \" Токи:\", I_mtrx, sep='\\n')\n",
    "print(\" \", \" Реактивная мощность на индуктивности:\", Ql_mtrx, sep='\\n')\n",
    "print(\" \", \" Реактивная мощность на емкости:\", Qc_mtrx, sep='\\n')\n",
    "print(\" \", \" Активная мощность:\", P_mtrx, sep='\\n')\n",
    "print(\" \", \" Реактивная мощность:\", Q_mtrx, sep='\\n')\n",
    "print(\" \", \" Полная мощность:\", S_mtrx, sep='\\n')\n",
    "print(\" \", \" Коэффициенты мощности:\", Cos_mtrx, sep='\\n')"
   ]
  },
  {
   "cell_type": "code",
   "execution_count": null,
   "metadata": {},
   "outputs": [],
   "source": []
  },
  {
   "cell_type": "code",
   "execution_count": null,
   "metadata": {},
   "outputs": [],
   "source": []
  }
 ],
 "metadata": {
  "kernelspec": {
   "display_name": "Python 3",
   "language": "python",
   "name": "python3"
  },
  "language_info": {
   "codemirror_mode": {
    "name": "ipython",
    "version": 3
   },
   "file_extension": ".py",
   "mimetype": "text/x-python",
   "name": "python",
   "nbconvert_exporter": "python",
   "pygments_lexer": "ipython3",
   "version": "3.7.3"
  }
 },
 "nbformat": 4,
 "nbformat_minor": 2
}
